{
 "cells": [
  {
   "cell_type": "markdown",
   "id": "00d40641-ad57-477b-abd2-8e9a84980ee3",
   "metadata": {},
   "source": [
    "### Pydantic Models\n",
    "\n",
    "Models are classes which inherit from the BaseModel class"
   ]
  },
  {
   "cell_type": "code",
   "execution_count": 1,
   "id": "64f6488c-e276-4c08-8033-4c12d0d7c69c",
   "metadata": {
    "tags": []
   },
   "outputs": [],
   "source": [
    "from pydantic import BaseModel"
   ]
  },
  {
   "cell_type": "code",
   "execution_count": 2,
   "id": "6a3a1cef-6230-4721-8747-a33b4905b5a9",
   "metadata": {
    "tags": []
   },
   "outputs": [],
   "source": [
    "class User(BaseModel):\n",
    "    id: int\n",
    "    name = 'Suvro Banerjee'"
   ]
  },
  {
   "cell_type": "code",
   "execution_count": 3,
   "id": "afe83280-90ad-4636-96e8-0060f5c3881c",
   "metadata": {
    "tags": []
   },
   "outputs": [
    {
     "ename": "ValidationError",
     "evalue": "1 validation error for User\nid\n  value is not a valid integer (type=type_error.integer)",
     "output_type": "error",
     "traceback": [
      "\u001b[0;31m---------------------------------------------------------------------------\u001b[0m",
      "\u001b[0;31mValidationError\u001b[0m                           Traceback (most recent call last)",
      "Cell \u001b[0;32mIn[3], line 2\u001b[0m\n\u001b[1;32m      1\u001b[0m user \u001b[38;5;241m=\u001b[39m User(\u001b[38;5;28mid\u001b[39m \u001b[38;5;241m=\u001b[39m \u001b[38;5;124m'\u001b[39m\u001b[38;5;124m123\u001b[39m\u001b[38;5;124m'\u001b[39m)\n\u001b[0;32m----> 2\u001b[0m user_x \u001b[38;5;241m=\u001b[39m \u001b[43mUser\u001b[49m\u001b[43m(\u001b[49m\u001b[38;5;28;43mid\u001b[39;49m\u001b[43m \u001b[49m\u001b[38;5;241;43m=\u001b[39;49m\u001b[43m \u001b[49m\u001b[38;5;124;43m'\u001b[39;49m\u001b[38;5;124;43m123.45\u001b[39;49m\u001b[38;5;124;43m'\u001b[39;49m\u001b[43m)\u001b[49m\n",
      "File \u001b[0;32m~/suvro_space/code/my_code/global_venv/lib/python3.9/site-packages/pydantic/main.py:341\u001b[0m, in \u001b[0;36mpydantic.main.BaseModel.__init__\u001b[0;34m()\u001b[0m\n",
      "\u001b[0;31mValidationError\u001b[0m: 1 validation error for User\nid\n  value is not a valid integer (type=type_error.integer)"
     ]
    }
   ],
   "source": [
    "user = User(id = '123')\n",
    "user_x = User(id = '123.45')"
   ]
  },
  {
   "cell_type": "code",
   "execution_count": 5,
   "id": "0e8fde7e-b2f4-4f0a-a331-1d44e2f3d4f9",
   "metadata": {
    "tags": []
   },
   "outputs": [],
   "source": [
    "user_x = User(id = 123.45)"
   ]
  },
  {
   "cell_type": "code",
   "execution_count": 6,
   "id": "0220a75a-19dc-41bb-9ef0-8634d857b89e",
   "metadata": {
    "tags": []
   },
   "outputs": [],
   "source": [
    "assert user.id == 123"
   ]
  },
  {
   "cell_type": "code",
   "execution_count": 8,
   "id": "4df731b2-261a-47b6-8717-e71659d557f2",
   "metadata": {
    "tags": []
   },
   "outputs": [],
   "source": [
    "assert user_x.id == 123  # note the float is casted to int"
   ]
  },
  {
   "cell_type": "code",
   "execution_count": 9,
   "id": "047e9363-8ce8-4e88-9935-1fdd44ec6049",
   "metadata": {
    "tags": []
   },
   "outputs": [],
   "source": [
    "assert isinstance(user_x.id, int)"
   ]
  },
  {
   "cell_type": "code",
   "execution_count": 10,
   "id": "f01c2dcb-f724-48e7-a78e-4bb9adab381c",
   "metadata": {
    "tags": []
   },
   "outputs": [
    {
     "data": {
      "text/plain": [
       "'Suvro Banerjee'"
      ]
     },
     "execution_count": 10,
     "metadata": {},
     "output_type": "execute_result"
    }
   ],
   "source": [
    "user.name"
   ]
  },
  {
   "cell_type": "code",
   "execution_count": 11,
   "id": "b0f836fb-0882-41a2-9cce-c793cb4c1f2a",
   "metadata": {
    "tags": []
   },
   "outputs": [
    {
     "data": {
      "text/plain": [
       "{'id': 123, 'name': 'Suvro Banerjee'}"
      ]
     },
     "execution_count": 11,
     "metadata": {},
     "output_type": "execute_result"
    }
   ],
   "source": [
    "user.dict()"
   ]
  },
  {
   "cell_type": "code",
   "execution_count": 13,
   "id": "fc5948fb-517e-485b-b6e2-5874ab26a5e5",
   "metadata": {
    "tags": []
   },
   "outputs": [],
   "source": [
    "assert user.dict() == dict(user) == {'id': 123, 'name': 'Suvro Banerjee'}"
   ]
  },
  {
   "cell_type": "code",
   "execution_count": 14,
   "id": "8f6a757c-03c3-4129-9e33-cb28ce45f430",
   "metadata": {
    "tags": []
   },
   "outputs": [
    {
     "data": {
      "text/plain": [
       "'{\"id\": 123, \"name\": \"Suvro Banerjee\"}'"
      ]
     },
     "execution_count": 14,
     "metadata": {},
     "output_type": "execute_result"
    }
   ],
   "source": [
    "user.json()"
   ]
  },
  {
   "cell_type": "markdown",
   "id": "8ecf0399-5538-4127-8f9a-c250c77c285e",
   "metadata": {},
   "source": [
    "### Recursive Models\n",
    "\n",
    "For complex hierarchical data strcutures"
   ]
  },
  {
   "cell_type": "code",
   "execution_count": 15,
   "id": "2d2922a9-433e-4fd8-89e4-0d7c8e4c1cd1",
   "metadata": {
    "tags": []
   },
   "outputs": [],
   "source": [
    "from typing import Optional\n",
    "from pydantic import BaseModel"
   ]
  },
  {
   "cell_type": "code",
   "execution_count": 16,
   "id": "d5b81a56-e3c8-4255-82bf-5790c91cb4f6",
   "metadata": {
    "tags": []
   },
   "outputs": [],
   "source": [
    "class Foo(BaseModel):\n",
    "    count: int\n",
    "    size: Optional[float] = None\n",
    "    \n",
    "class Bar(BaseModel):\n",
    "    apple = 'x'\n",
    "    banana = 'y'\n",
    "    \n",
    "class Spam(BaseModel):\n",
    "    foo: Foo\n",
    "    bars: list[Bar]"
   ]
  },
  {
   "cell_type": "code",
   "execution_count": 17,
   "id": "6fb421ed-1fee-4ba5-adb8-b7b09e65d92d",
   "metadata": {
    "tags": []
   },
   "outputs": [
    {
     "name": "stdout",
     "output_type": "stream",
     "text": [
      "foo=Foo(count=4, size=None) bars=[Bar(apple='x1', banana='y'), Bar(apple='x2', banana='y')]\n"
     ]
    }
   ],
   "source": [
    "m = Spam(foo = {'count': 4},\n",
    "        bars = [{'apple': 'x1'}, {'apple': 'x2'}])\n",
    "print(m)"
   ]
  },
  {
   "cell_type": "code",
   "execution_count": 18,
   "id": "c8852029-5319-46ff-b3c9-da28b1e1e694",
   "metadata": {
    "tags": []
   },
   "outputs": [
    {
     "name": "stdout",
     "output_type": "stream",
     "text": [
      "{\"foo\": {\"count\": 4, \"size\": null}, \"bars\": [{\"apple\": \"x1\", \"banana\": \"y\"}, {\"apple\": \"x2\", \"banana\": \"y\"}]}\n"
     ]
    }
   ],
   "source": [
    "print(m.json())"
   ]
  },
  {
   "cell_type": "code",
   "execution_count": 19,
   "id": "b545514b-1f4a-465d-88cc-681582574703",
   "metadata": {
    "tags": []
   },
   "outputs": [
    {
     "name": "stdout",
     "output_type": "stream",
     "text": [
      "{'foo': {'count': 4, 'size': None}, 'bars': [{'apple': 'x1', 'banana': 'y'}, {'apple': 'x2', 'banana': 'y'}]}\n"
     ]
    }
   ],
   "source": [
    "print(m.dict())"
   ]
  },
  {
   "cell_type": "markdown",
   "id": "cdc16e96-9d25-4bce-a558-ef06c80da388",
   "metadata": {},
   "source": [
    "### ORM Mode (aka Arbitrary Class Instances)\n",
    "ORM stands for Object-Relational Mapping. It is a programming technique that allows developers to interact with databases using an object-oriented paradigm, rather than relying on traditional SQL statements. An ORM tool provides a mapping between the database schema and the programming language's object model, so that developers can create, read, update, and delete records in the database using objects and methods in their programming language of choice.\n",
    "\n",
    "In an ORM, each table in the database is represented by a class in the programming language, and each row in the table is represented by an instance of that class. ORM tools typically provide a range of methods to interact with the database, such as create, read, update, and delete methods that allow developers to manipulate the database records using object-oriented syntax.\n",
    "\n",
    "ORMs provide several benefits over traditional SQL-based database interactions, including:\n",
    "\n",
    "Reduced code complexity: ORMs abstract away the complexity of SQL queries and provide a more intuitive and concise programming interface.\n",
    "\n",
    "Portability: ORMs can be used with multiple database management systems (DBMS) without requiring significant changes to the code.\n",
    "\n",
    "Maintenance: ORMs provide a layer of abstraction that separates the database schema from the application logic, making it easier to maintain and update the application as the database schema changes.\n",
    "\n",
    "Some popular ORM tools include Hibernate (for Java), Entity Framework (for .NET), Django ORM (for Python), and ActiveRecord (for Ruby on Rails).\n"
   ]
  },
  {
   "cell_type": "markdown",
   "id": "953765c4-8aad-47de-a8a2-371f307ff2f1",
   "metadata": {},
   "source": [
    "The below example uses SQLAlchemy as an ORM-\n",
    "\n",
    "**SQLAlchemy** is a popular open-source Object-Relational Mapping (ORM) library for Python. It provides a set of tools and utilities for interacting with relational databases using a high-level, object-oriented interface. SQLAlchemy supports a wide range of database systems, including PostgreSQL, MySQL, Oracle, Microsoft SQL Server, and SQLite.\n",
    "\n",
    "One of the key features of SQLAlchemy is its ability to generate SQL queries dynamically based on Python code. This allows developers to write complex database queries in Python, rather than directly in SQL, and to easily change the queries without having to manually modify the SQL code. SQLAlchemy also provides support for advanced SQL features such as transactions, joins, and subqueries.\n",
    "\n",
    "In addition to its ORM capabilities, SQLAlchemy also provides a range of other tools and utilities for working with databases, including:\n",
    "\n",
    "A SQL expression language that allows developers to generate SQL statements programmatically.\n",
    "\n",
    "A schema abstraction layer that simplifies the process of creating, modifying, and querying database schemas.\n",
    "\n",
    "Connection pooling and caching to improve performance and reduce database load.\n",
    "\n",
    "Integration with popular web frameworks such as Flask and Django.\n",
    "\n",
    "Overall, SQLAlchemy is a powerful and flexible library that makes it easier to work with relational databases in Python, whether you are building a small web application or a large-scale data-driven system.\n"
   ]
  },
  {
   "cell_type": "code",
   "execution_count": 20,
   "id": "e028eeca-820d-42fb-a300-6ee4199c88b6",
   "metadata": {
    "tags": []
   },
   "outputs": [],
   "source": [
    "from sqlalchemy import Column, Integer, String\n",
    "from sqlalchemy.dialects.postgresql import ARRAY\n",
    "from sqlalchemy.ext.declarative import declarative_base\n",
    "from pydantic import BaseModel, constr"
   ]
  },
  {
   "cell_type": "code",
   "execution_count": 21,
   "id": "3a254027-a4e4-4f8e-b575-5ce32f84773e",
   "metadata": {
    "tags": []
   },
   "outputs": [
    {
     "name": "stderr",
     "output_type": "stream",
     "text": [
      "/var/folders/xc/x2qm7j8j4k75m7htc8v3w1vc0000gn/T/ipykernel_26515/4196137762.py:1: MovedIn20Warning: Deprecated API features detected! These feature(s) are not compatible with SQLAlchemy 2.0. To prevent incompatible upgrades prior to updating applications, ensure requirements files are pinned to \"sqlalchemy<2.0\". Set environment variable SQLALCHEMY_WARN_20=1 to show all deprecation warnings.  Set environment variable SQLALCHEMY_SILENCE_UBER_WARNING=1 to silence this message. (Background on SQLAlchemy 2.0 at: https://sqlalche.me/e/b8d9)\n",
      "  Base = declarative_base()\n"
     ]
    }
   ],
   "source": [
    "Base = declarative_base()"
   ]
  },
  {
   "cell_type": "code",
   "execution_count": 22,
   "id": "4affee3e-4912-4a99-aca8-79366b0fedaa",
   "metadata": {
    "tags": []
   },
   "outputs": [],
   "source": [
    "class CompanyOrm(Base):\n",
    "    __tablename__ = 'companies'\n",
    "    id = Column(Integer, primary_key = True, nullable = False)\n",
    "    public_key = Column(String(20), index = True, nullable = False, unique = True)\n",
    "    name = Column(String(63), unique = True)\n",
    "    domains = Column(ARRAY(String(255)))"
   ]
  },
  {
   "cell_type": "code",
   "execution_count": 23,
   "id": "99d47202-11e6-42a7-b580-10b20e7568f7",
   "metadata": {
    "tags": []
   },
   "outputs": [],
   "source": [
    "class CompanyModel(BaseModel):\n",
    "    id: int\n",
    "    public_key: constr(max_length = 20)\n",
    "    name: constr(max_length = 63)\n",
    "    domains: list[constr(max_length = 255)]\n",
    "    \n",
    "    class Config:\n",
    "        orm_mode = True"
   ]
  },
  {
   "cell_type": "markdown",
   "id": "3ed97fe3-c2bf-425c-88f8-9a963fe1a87c",
   "metadata": {},
   "source": [
    "In Pydantic, Constr is a class that represents a field that has a set of constraints. It is used to define validation rules for data that is being parsed or serialized."
   ]
  },
  {
   "cell_type": "code",
   "execution_count": 24,
   "id": "eb2a9ca3-01b5-4f85-963a-304e8f2c6689",
   "metadata": {
    "tags": []
   },
   "outputs": [],
   "source": [
    "co_orm = CompanyOrm(\n",
    "        id = 123,\n",
    "        public_key = 'foobar',\n",
    "        name = 'Testing',\n",
    "        domains = ['example.com', 'foobar.com'],\n",
    ")"
   ]
  },
  {
   "cell_type": "code",
   "execution_count": 25,
   "id": "1ede8534-452a-489c-a31d-7d40bbc792c1",
   "metadata": {
    "tags": []
   },
   "outputs": [
    {
     "name": "stdout",
     "output_type": "stream",
     "text": [
      "<__main__.CompanyOrm object at 0x1191cd8e0>\n"
     ]
    }
   ],
   "source": [
    "print(co_orm)"
   ]
  },
  {
   "cell_type": "code",
   "execution_count": 26,
   "id": "d6dc0ede-9f8c-40b9-b230-6329f7704ef1",
   "metadata": {
    "tags": []
   },
   "outputs": [
    {
     "name": "stdout",
     "output_type": "stream",
     "text": [
      "id=123 public_key='foobar' name='Testing' domains=['example.com', 'foobar.com']\n"
     ]
    }
   ],
   "source": [
    "co_model = CompanyModel.from_orm(co_orm)\n",
    "print(co_model)"
   ]
  },
  {
   "cell_type": "markdown",
   "id": "47948dd5-856e-40b4-a1f7-5f2a1af1d847",
   "metadata": {},
   "source": [
    "Let's take another example -"
   ]
  },
  {
   "cell_type": "code",
   "execution_count": null,
   "id": "42dfcc99-ddcd-4b94-8a6e-874b6aecb5b2",
   "metadata": {},
   "outputs": [],
   "source": []
  }
 ],
 "metadata": {
  "kernelspec": {
   "display_name": "global_venv",
   "language": "python",
   "name": "global_venv"
  },
  "language_info": {
   "codemirror_mode": {
    "name": "ipython",
    "version": 3
   },
   "file_extension": ".py",
   "mimetype": "text/x-python",
   "name": "python",
   "nbconvert_exporter": "python",
   "pygments_lexer": "ipython3",
   "version": "3.9.6"
  }
 },
 "nbformat": 4,
 "nbformat_minor": 5
}
