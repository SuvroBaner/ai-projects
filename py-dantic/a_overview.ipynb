{
 "cells": [
  {
   "cell_type": "markdown",
   "id": "16bdf5cf-c840-4c5f-a3bc-f2dd20cbbcb7",
   "metadata": {},
   "source": [
    "### Pydantic Overview"
   ]
  },
  {
   "cell_type": "code",
   "execution_count": 19,
   "id": "452f59cc-61f2-4bd1-8fad-63910360f572",
   "metadata": {
    "tags": []
   },
   "outputs": [],
   "source": [
    "from datetime import datetime\n",
    "from typing import Optional\n",
    "from pydantic import BaseModel\n",
    "import pydantic"
   ]
  },
  {
   "cell_type": "code",
   "execution_count": 2,
   "id": "f2120d06-0069-4c86-aee5-fe3dbb0d7ad2",
   "metadata": {
    "tags": []
   },
   "outputs": [],
   "source": [
    "class User(BaseModel):\n",
    "    id: int\n",
    "    name = 'Suvro Banerjee'\n",
    "    signup_ts: Optional[datetime] = None\n",
    "    friends: list[int] = []"
   ]
  },
  {
   "cell_type": "code",
   "execution_count": 12,
   "id": "bf64f590-3921-44af-8b9e-a6d2d5f15415",
   "metadata": {
    "tags": []
   },
   "outputs": [],
   "source": [
    "external_data = {\n",
    "    'id': '123',\n",
    "    'signup_ts': '2023-04-26 11:48',\n",
    "    'friends': [1, 2, '3'],\n",
    "}"
   ]
  },
  {
   "cell_type": "code",
   "execution_count": 13,
   "id": "a6143c65-19c2-42e0-b752-ecb8cd12d239",
   "metadata": {
    "tags": []
   },
   "outputs": [],
   "source": [
    "user = User(**external_data)"
   ]
  },
  {
   "cell_type": "code",
   "execution_count": 14,
   "id": "39445b2f-f979-4361-9c0e-939144e6c8be",
   "metadata": {
    "tags": []
   },
   "outputs": [
    {
     "name": "stdout",
     "output_type": "stream",
     "text": [
      "123\n"
     ]
    }
   ],
   "source": [
    "print(user.id)"
   ]
  },
  {
   "cell_type": "code",
   "execution_count": 15,
   "id": "fb81fa21-ccf1-45ec-ae15-d93cf63e452b",
   "metadata": {
    "tags": []
   },
   "outputs": [
    {
     "name": "stdout",
     "output_type": "stream",
     "text": [
      "datetime.datetime(2023, 4, 26, 11, 48)\n"
     ]
    }
   ],
   "source": [
    "print(repr(user.signup_ts))"
   ]
  },
  {
   "cell_type": "code",
   "execution_count": 16,
   "id": "2247eb3c-8367-44a6-9d3d-ee6f87bb6f09",
   "metadata": {
    "tags": []
   },
   "outputs": [
    {
     "name": "stdout",
     "output_type": "stream",
     "text": [
      "[1, 2, 3]\n"
     ]
    }
   ],
   "source": [
    "print(user.friends)"
   ]
  },
  {
   "cell_type": "code",
   "execution_count": 17,
   "id": "7f026c33-81f6-4f83-86de-680405cc2ff9",
   "metadata": {
    "tags": []
   },
   "outputs": [
    {
     "name": "stdout",
     "output_type": "stream",
     "text": [
      "{'id': 123, 'signup_ts': datetime.datetime(2023, 4, 26, 11, 48), 'friends': [1, 2, 3], 'name': 'Suvro Banerjee'}\n"
     ]
    }
   ],
   "source": [
    "print(user.dict())"
   ]
  },
  {
   "cell_type": "code",
   "execution_count": 20,
   "id": "b00ca218-7c6b-47d0-afa3-a1ab76360b83",
   "metadata": {
    "tags": []
   },
   "outputs": [
    {
     "name": "stdout",
     "output_type": "stream",
     "text": [
      "compiled: True\n"
     ]
    }
   ],
   "source": [
    "print('compiled:', pydantic.compiled)"
   ]
  },
  {
   "cell_type": "code",
   "execution_count": null,
   "id": "b19f4ce9-9fab-4131-a639-a785bc062386",
   "metadata": {},
   "outputs": [],
   "source": []
  }
 ],
 "metadata": {
  "kernelspec": {
   "display_name": "global_venv",
   "language": "python",
   "name": "global_venv"
  },
  "language_info": {
   "codemirror_mode": {
    "name": "ipython",
    "version": 3
   },
   "file_extension": ".py",
   "mimetype": "text/x-python",
   "name": "python",
   "nbconvert_exporter": "python",
   "pygments_lexer": "ipython3",
   "version": "3.9.6"
  }
 },
 "nbformat": 4,
 "nbformat_minor": 5
}
