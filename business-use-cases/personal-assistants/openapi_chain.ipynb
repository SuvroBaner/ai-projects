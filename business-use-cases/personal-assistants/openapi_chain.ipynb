{
 "cells": [
  {
   "cell_type": "markdown",
   "id": "a2104f5c-722f-4cbc-9906-97ead7207999",
   "metadata": {},
   "source": [
    "### OpenAPI Chain\n",
    "\n",
    "Use an OpenAPI chain to call an endpoint. The input and the output are both natural language."
   ]
  },
  {
   "cell_type": "code",
   "execution_count": 25,
   "id": "b77ea4de-a742-4b03-9842-e2cde5c1a83e",
   "metadata": {
    "tags": []
   },
   "outputs": [],
   "source": [
    "from langchain.tools import OpenAPISpec, APIOperation\n",
    "from langchain.chains import OpenAPIEndpointChain\n",
    "from langchain.requests import Requests\n",
    "from langchain.llms import OpenAI"
   ]
  },
  {
   "cell_type": "markdown",
   "id": "b54dffb4-7842-498f-9947-84aa5588ec31",
   "metadata": {},
   "source": [
    "### Load the spec\n",
    "\n",
    "To call the OpenAPI endpoints we use a wrapper"
   ]
  },
  {
   "cell_type": "code",
   "execution_count": 26,
   "id": "3fd6835f-8972-459c-ad2c-ccfa9c1e3a36",
   "metadata": {
    "tags": []
   },
   "outputs": [
    {
     "name": "stderr",
     "output_type": "stream",
     "text": [
      "Attempting to load an OpenAPI 3.0.1 spec.  This may result in degraded performance. Convert your OpenAPI spec to 3.1.* spec for better support.\n"
     ]
    }
   ],
   "source": [
    "spec = OpenAPISpec.from_url(\"https://www.klarna.com/us/shopping/public/openai/v0/api-docs/\")"
   ]
  },
  {
   "cell_type": "code",
   "execution_count": 27,
   "id": "176ed6af-993e-4d38-ab9e-5920c3747107",
   "metadata": {
    "tags": []
   },
   "outputs": [],
   "source": [
    "# Alternative loading from file\n",
    "# spec = OpenAPISpec.from_file(\"openai_openapi.yaml\")"
   ]
  },
  {
   "cell_type": "markdown",
   "id": "8eacac72-d96d-4ecd-ba04-a78cf4a61be1",
   "metadata": {},
   "source": [
    "### Select the Operation"
   ]
  },
  {
   "cell_type": "code",
   "execution_count": 28,
   "id": "3b8e427b-2490-4e98-bd1b-8d9cd480217f",
   "metadata": {
    "tags": []
   },
   "outputs": [],
   "source": [
    "operation = APIOperation.from_openapi_spec(spec, '/public/openai/v0/products', \"get\")"
   ]
  },
  {
   "cell_type": "code",
   "execution_count": 29,
   "id": "7606d0cb-cd48-4e1d-ae2c-fa0cdfb8ee9b",
   "metadata": {
    "tags": []
   },
   "outputs": [
    {
     "data": {
      "text/plain": [
       "APIOperation(operation_id='productsUsingGET', description='API for fetching Klarna product information', base_url='https://www.klarna.com/us/shopping', path='/public/openai/v0/products', method=<HTTPVerb.GET: 'get'>, properties=[APIProperty(name='q', required=True, type='string', default=None, description=\"A precise query that matches one very small category or product that needs to be searched for to find the products the user is looking for. If the user explicitly stated what they want, use that as a query. The query is as specific as possible to the product name or category mentioned by the user in its singular form, and don't contain any clarifiers like latest, newest, cheapest, budget, premium, expensive or similar. The query is always taken from the latest topic, if there is a new topic a new query is started.\", location=<APIPropertyLocation.QUERY: 'query'>), APIProperty(name='size', required=False, type='integer', default=None, description='number of products returned', location=<APIPropertyLocation.QUERY: 'query'>), APIProperty(name='min_price', required=False, type='integer', default=None, description=\"(Optional) Minimum price in local currency for the product searched for. Either explicitly stated by the user or implicitly inferred from a combination of the user's request and the kind of product searched for.\", location=<APIPropertyLocation.QUERY: 'query'>), APIProperty(name='max_price', required=False, type='integer', default=None, description=\"(Optional) Maximum price in local currency for the product searched for. Either explicitly stated by the user or implicitly inferred from a combination of the user's request and the kind of product searched for.\", location=<APIPropertyLocation.QUERY: 'query'>)], request_body=None)"
      ]
     },
     "execution_count": 29,
     "metadata": {},
     "output_type": "execute_result"
    }
   ],
   "source": [
    "operation"
   ]
  },
  {
   "cell_type": "markdown",
   "id": "513ff8dc-a6c5-49f8-98a5-a12ae8cb9294",
   "metadata": {},
   "source": [
    "### Construct the Chain\n",
    "Now we can construct a chain to interact with it. We will do the following -\n",
    "1. The operation endpoint\n",
    "2. A requests wrapper \n",
    "3. The LLM to use to interact with it."
   ]
  },
  {
   "cell_type": "code",
   "execution_count": 30,
   "id": "eaf85fad-4670-4973-ac4a-1d700f907d29",
   "metadata": {
    "tags": []
   },
   "outputs": [],
   "source": [
    "llm = OpenAI()"
   ]
  },
  {
   "cell_type": "code",
   "execution_count": 31,
   "id": "5f596705-aeb7-4578-8273-27eb105e0b90",
   "metadata": {
    "tags": []
   },
   "outputs": [],
   "source": [
    "chain = OpenAPIEndpointChain.from_api_operation(\n",
    "    operation,\n",
    "    llm,\n",
    "    requests = Requests(),\n",
    "    verbose = True,\n",
    "    return_intermediate_steps = True\n",
    ")"
   ]
  },
  {
   "cell_type": "code",
   "execution_count": 37,
   "id": "44df9bb6-3bbe-4d44-8443-9012b0bb0097",
   "metadata": {
    "tags": []
   },
   "outputs": [
    {
     "name": "stdout",
     "output_type": "stream",
     "text": [
      "\n",
      "\n",
      "\u001b[1m> Entering new OpenAPIEndpointChain chain...\u001b[0m\n",
      "\n",
      "\n",
      "\u001b[1m> Entering new APIRequesterChain chain...\u001b[0m\n",
      "Prompt after formatting:\n",
      "\u001b[32;1m\u001b[1;3mYou are a helpful AI Assistant. Please provide JSON arguments to agentFunc() based on the user's instructions.\n",
      "\n",
      "API_SCHEMA: ```typescript\n",
      "/* API for fetching Klarna product information */\n",
      "type productsUsingGET = (_: {\n",
      "/* A precise query that matches one very small category or product that needs to be searched for to find the products the user is looking for. If the user explicitly stated what they want, use that as a query. The query is as specific as possible to the product name or category mentioned by the user in its singular form, and don't contain any clarifiers like latest, newest, cheapest, budget, premium, expensive or similar. The query is always taken from the latest topic, if there is a new topic a new query is started. */\n",
      "\t\tq: string,\n",
      "/* number of products returned */\n",
      "\t\tsize?: number,\n",
      "/* (Optional) Minimum price in local currency for the product searched for. Either explicitly stated by the user or implicitly inferred from a combination of the user's request and the kind of product searched for. */\n",
      "\t\tmin_price?: number,\n",
      "/* (Optional) Maximum price in local currency for the product searched for. Either explicitly stated by the user or implicitly inferred from a combination of the user's request and the kind of product searched for. */\n",
      "\t\tmax_price?: number,\n",
      "}) => any;\n",
      "```\n",
      "\n",
      "USER_INSTRUCTIONS: \"Show me few options of cotton jumpsuits for babies with price less than USD 10 which are beige color\"\n",
      "\n",
      "Your arguments must be plain json provided in a markdown block:\n",
      "\n",
      "ARGS: ```json\n",
      "{valid json conforming to API_SCHEMA}\n",
      "```\n",
      "\n",
      "Example\n",
      "-----\n",
      "\n",
      "ARGS: ```json\n",
      "{\"foo\": \"bar\", \"baz\": {\"qux\": \"quux\"}}\n",
      "```\n",
      "\n",
      "The block must be no more than 1 line long, and all arguments must be valid JSON. All string arguments must be wrapped in double quotes.\n",
      "You MUST strictly comply to the types indicated by the provided schema, including all required args.\n",
      "\n",
      "If you don't have sufficient information to call the function due to things like requiring specific uuid's, you can reply with the following message:\n",
      "\n",
      "Message: ```text\n",
      "Concise response requesting the additional information that would make calling the function successful.\n",
      "```\n",
      "\n",
      "Begin\n",
      "-----\n",
      "ARGS:\n",
      "\u001b[0m\n",
      "\n",
      "\u001b[1m> Finished chain.\u001b[0m\n",
      "\u001b[32;1m\u001b[1;3m{\"q\": \"cotton jumpsuits\", \"size\": 3, \"min_price\": 0, \"max_price\": 10, \"color\": \"beige\"}\u001b[0m\n",
      "\u001b[36;1m\u001b[1;3m{\"products\":[{\"name\":\"Carter's 2-Pack Cotton Jumpsuits\",\"url\":\"https://www.klarna.com/us/shopping/pl/cl359/3201862980/Children-s-Clothing/Carter-s-2-Pack-Cotton-Jumpsuits/?utm_source=openai&ref-site=openai_plugin\",\"price\":\"$10.40\",\"attributes\":[\"Model:Boy\",\"Size (US):9\"]},{\"name\":\"Carter's Baby Safari Snap-Up Cotton Sleep & Play - Multi\",\"url\":\"https://www.klarna.com/us/shopping/pl/cl359/3201883411/Children-s-Clothing/Carter-s-Baby-Safari-Snap-Up-Cotton-Sleep-Play-Multi/?utm_source=openai&ref-site=openai_plugin\",\"price\":\"$7.99\",\"attributes\":[\"Color:Beige\",\"Model:Baby\",\"Age (Months):1-3M,Premature,6-9M,3-6M,0-1M\"]},{\"name\":\"Nike Sportswear Graphic Footed Coverall - Black/White/Grey (56D679-023)\",\"url\":\"https://www.klarna.com/us/shopping/pl/cl359/3202544912/Children-s-Clothing/Nike-Sportswear-Graphic-Footed-Coverall-Black-White-Grey-%2856D679-023%29/?utm_source=openai&ref-site=openai_plugin\",\"price\":\"$9.99\",\"attributes\":[\"Color:Gray,Black\",\"Model:Baby\",\"Age (Months):1-3M,6-9M,3-6M,0-1M\"]}]}\u001b[0m\n",
      "\n",
      "\n",
      "\u001b[1m> Entering new APIResponderChain chain...\u001b[0m\n",
      "Prompt after formatting:\n",
      "\u001b[32;1m\u001b[1;3mYou are a helpful AI assistant trained to answer user queries from API responses.\n",
      "You attempted to call an API, which resulted in:\n",
      "API_RESPONSE: {\"products\":[{\"name\":\"Carter's 2-Pack Cotton Jumpsuits\",\"url\":\"https://www.klarna.com/us/shopping/pl/cl359/3201862980/Children-s-Clothing/Carter-s-2-Pack-Cotton-Jumpsuits/?utm_source=openai&ref-site=openai_plugin\",\"price\":\"$10.40\",\"attributes\":[\"Model:Boy\",\"Size (US):9\"]},{\"name\":\"Carter's Baby Safari Snap-Up Cotton Sleep & Play - Multi\",\"url\":\"https://www.klarna.com/us/shopping/pl/cl359/3201883411/Children-s-Clothing/Carter-s-Baby-Safari-Snap-Up-Cotton-Sleep-Play-Multi/?utm_source=openai&ref-site=openai_plugin\",\"price\":\"$7.99\",\"attributes\":[\"Color:Beige\",\"Model:Baby\",\"Age (Months):1-3M,Premature,6-9M,3-6M,0-1M\"]},{\"name\":\"Nike Sportswear Graphic Footed Coverall - Black/White/Grey (56D679-023)\",\"url\":\"https://www.klarna.com/us/shopping/pl/cl359/3202544912/Children-s-Clothing/Nike-Sportswear-Graphic-Footed-Coverall-Black-White-Grey-%2856D679-023%29/?utm_source=openai&ref-site=openai_plugin\",\"price\":\"$9.99\",\"attributes\":[\"Color:Gray,Black\",\"Model:Baby\",\"Age (Months):1-3M,6-9M,3-6M,0-1M\"]}]}\n",
      "\n",
      "USER_COMMENT: \"Show me few options of cotton jumpsuits for babies with price less than USD 10 which are beige color\"\n",
      "\n",
      "\n",
      "If the API_RESPONSE can answer the USER_COMMENT respond with the following markdown json block:\n",
      "Response: ```json\n",
      "{\"response\": \"Human-understandable synthesis of the API_RESPONSE\"}\n",
      "```\n",
      "\n",
      "Otherwise respond with the following markdown json block:\n",
      "Response Error: ```json\n",
      "{\"response\": \"What you did and a concise statement of the resulting error. If it can be easily fixed, provide a suggestion.\"}\n",
      "```\n",
      "\n",
      "You MUST respond as a markdown json code block. The person you are responding to CANNOT see the API_RESPONSE, so if there is any relevant information there you must include it in your response.\n",
      "\n",
      "Begin:\n",
      "---\n",
      "\u001b[0m\n",
      "\n",
      "\u001b[1m> Finished chain.\u001b[0m\n",
      "\u001b[33;1m\u001b[1;3mI found two options for cotton jumpsuits for babies with a price less than USD 10 that are beige in color. The first one is Carter's 2-Pack Cotton Jumpsuits which has a price of $10.40 and comes in Model:Boy and Size (US):9. The second one is Carter's Baby Safari Snap-Up Cotton Sleep & Play - Multi which has a price of $7.99 and comes in Color:Beige, Model:Baby, and Age (Months):1-3M,Premature,6-9M,3-6M,0-1M.\u001b[0m\n",
      "\n",
      "\u001b[1m> Finished chain.\u001b[0m\n"
     ]
    }
   ],
   "source": [
    "#output = chain(\"What's the most trending t-shirt ?\")\n",
    "output = chain(\"Show me few options of cotton jumpsuits for babies with price less than USD 10 which are beige color\")"
   ]
  },
  {
   "cell_type": "code",
   "execution_count": 38,
   "id": "ddb80e01-4e2c-4781-a40b-6e7d29ccdae5",
   "metadata": {
    "tags": []
   },
   "outputs": [
    {
     "data": {
      "text/plain": [
       "{'request_args': '{\"q\": \"cotton jumpsuits\", \"size\": 3, \"min_price\": 0, \"max_price\": 10, \"color\": \"beige\"}',\n",
       " 'response_text': '{\"products\":[{\"name\":\"Carter\\'s 2-Pack Cotton Jumpsuits\",\"url\":\"https://www.klarna.com/us/shopping/pl/cl359/3201862980/Children-s-Clothing/Carter-s-2-Pack-Cotton-Jumpsuits/?utm_source=openai&ref-site=openai_plugin\",\"price\":\"$10.40\",\"attributes\":[\"Model:Boy\",\"Size (US):9\"]},{\"name\":\"Carter\\'s Baby Safari Snap-Up Cotton Sleep & Play - Multi\",\"url\":\"https://www.klarna.com/us/shopping/pl/cl359/3201883411/Children-s-Clothing/Carter-s-Baby-Safari-Snap-Up-Cotton-Sleep-Play-Multi/?utm_source=openai&ref-site=openai_plugin\",\"price\":\"$7.99\",\"attributes\":[\"Color:Beige\",\"Model:Baby\",\"Age (Months):1-3M,Premature,6-9M,3-6M,0-1M\"]},{\"name\":\"Nike Sportswear Graphic Footed Coverall - Black/White/Grey (56D679-023)\",\"url\":\"https://www.klarna.com/us/shopping/pl/cl359/3202544912/Children-s-Clothing/Nike-Sportswear-Graphic-Footed-Coverall-Black-White-Grey-%2856D679-023%29/?utm_source=openai&ref-site=openai_plugin\",\"price\":\"$9.99\",\"attributes\":[\"Color:Gray,Black\",\"Model:Baby\",\"Age (Months):1-3M,6-9M,3-6M,0-1M\"]}]}'}"
      ]
     },
     "execution_count": 38,
     "metadata": {},
     "output_type": "execute_result"
    }
   ],
   "source": [
    "output[\"intermediate_steps\"]"
   ]
  },
  {
   "cell_type": "markdown",
   "id": "35abe2b7-dd12-4857-b4d6-0a16a9ded431",
   "metadata": {},
   "source": [
    "### Return raw response"
   ]
  },
  {
   "cell_type": "code",
   "execution_count": 10,
   "id": "3990f749-6001-4575-b84b-a7b18f541f62",
   "metadata": {
    "tags": []
   },
   "outputs": [],
   "source": [
    "chain = OpenAPIEndpointChain.from_api_operation(\n",
    "    operation,\n",
    "    llm,\n",
    "    requests = Requests(),\n",
    "    verbose = True,\n",
    "    return_intermediate_steps = True,\n",
    "    raw_response = True\n",
    ")"
   ]
  },
  {
   "cell_type": "code",
   "execution_count": 11,
   "id": "de1561ca-a905-43a3-9036-bdc366b7d048",
   "metadata": {
    "tags": []
   },
   "outputs": [
    {
     "name": "stdout",
     "output_type": "stream",
     "text": [
      "\n",
      "\n",
      "\u001b[1m> Entering new OpenAPIEndpointChain chain...\u001b[0m\n",
      "\n",
      "\n",
      "\u001b[1m> Entering new APIRequesterChain chain...\u001b[0m\n",
      "Prompt after formatting:\n",
      "\u001b[32;1m\u001b[1;3mYou are a helpful AI Assistant. Please provide JSON arguments to agentFunc() based on the user's instructions.\n",
      "\n",
      "API_SCHEMA: ```typescript\n",
      "/* API for fetching Klarna product information */\n",
      "type productsUsingGET = (_: {\n",
      "/* A precise query that matches one very small category or product that needs to be searched for to find the products the user is looking for. If the user explicitly stated what they want, use that as a query. The query is as specific as possible to the product name or category mentioned by the user in its singular form, and don't contain any clarifiers like latest, newest, cheapest, budget, premium, expensive or similar. The query is always taken from the latest topic, if there is a new topic a new query is started. */\n",
      "\t\tq: string,\n",
      "/* number of products returned */\n",
      "\t\tsize?: number,\n",
      "/* (Optional) Minimum price in local currency for the product searched for. Either explicitly stated by the user or implicitly inferred from a combination of the user's request and the kind of product searched for. */\n",
      "\t\tmin_price?: number,\n",
      "/* (Optional) Maximum price in local currency for the product searched for. Either explicitly stated by the user or implicitly inferred from a combination of the user's request and the kind of product searched for. */\n",
      "\t\tmax_price?: number,\n",
      "}) => any;\n",
      "```\n",
      "\n",
      "USER_INSTRUCTIONS: \"What's the most trending t-shirt ?\"\n",
      "\n",
      "Your arguments must be plain json provided in a markdown block:\n",
      "\n",
      "ARGS: ```json\n",
      "{valid json conforming to API_SCHEMA}\n",
      "```\n",
      "\n",
      "Example\n",
      "-----\n",
      "\n",
      "ARGS: ```json\n",
      "{\"foo\": \"bar\", \"baz\": {\"qux\": \"quux\"}}\n",
      "```\n",
      "\n",
      "The block must be no more than 1 line long, and all arguments must be valid JSON. All string arguments must be wrapped in double quotes.\n",
      "You MUST strictly comply to the types indicated by the provided schema, including all required args.\n",
      "\n",
      "If you don't have sufficient information to call the function due to things like requiring specific uuid's, you can reply with the following message:\n",
      "\n",
      "Message: ```text\n",
      "Concise response requesting the additional information that would make calling the function successful.\n",
      "```\n",
      "\n",
      "Begin\n",
      "-----\n",
      "ARGS:\n",
      "\u001b[0m\n",
      "\n",
      "\u001b[1m> Finished chain.\u001b[0m\n",
      "\u001b[32;1m\u001b[1;3m{\"q\": \"t-shirt\", \"size\": 1}\u001b[0m\n",
      "\u001b[36;1m\u001b[1;3m{\"products\":[{\"name\":\"T-shirt\",\"url\":\"https://www.klarna.com/us/shopping/pl/cl10001/3203506327/Clothing/T-shirt/?utm_source=openai&ref-site=openai_plugin\",\"price\":\"$20.99\",\"attributes\":[\"Material:Cotton\",\"Target Group:Man\",\"Color:Gray,White,Blue,Black,Orange\"]}]}\u001b[0m\n",
      "\n",
      "\u001b[1m> Finished chain.\u001b[0m\n"
     ]
    }
   ],
   "source": [
    "output = chain(\"What's the most trending t-shirt ?\")"
   ]
  },
  {
   "cell_type": "code",
   "execution_count": 12,
   "id": "041e6b93-1876-4f4b-8bfb-facff304ed1d",
   "metadata": {
    "tags": []
   },
   "outputs": [
    {
     "data": {
      "text/plain": [
       "{'instructions': \"What's the most trending t-shirt ?\",\n",
       " 'output': '{\"products\":[{\"name\":\"T-shirt\",\"url\":\"https://www.klarna.com/us/shopping/pl/cl10001/3203506327/Clothing/T-shirt/?utm_source=openai&ref-site=openai_plugin\",\"price\":\"$20.99\",\"attributes\":[\"Material:Cotton\",\"Target Group:Man\",\"Color:Gray,White,Blue,Black,Orange\"]}]}',\n",
       " 'intermediate_steps': {'request_args': '{\"q\": \"t-shirt\", \"size\": 1}',\n",
       "  'response_text': '{\"products\":[{\"name\":\"T-shirt\",\"url\":\"https://www.klarna.com/us/shopping/pl/cl10001/3203506327/Clothing/T-shirt/?utm_source=openai&ref-site=openai_plugin\",\"price\":\"$20.99\",\"attributes\":[\"Material:Cotton\",\"Target Group:Man\",\"Color:Gray,White,Blue,Black,Orange\"]}]}'}}"
      ]
     },
     "execution_count": 12,
     "metadata": {},
     "output_type": "execute_result"
    }
   ],
   "source": [
    "output"
   ]
  },
  {
   "cell_type": "markdown",
   "id": "9b3efea6-f80e-4790-9167-a6d1b19fcefc",
   "metadata": {},
   "source": [
    "## POST message\n",
    "Here we will interact with the speak API.\n",
    "\n",
    "OpenAPISpec(openapi='3.0.1', info=Info(title='Speak', summary=None, description='Learn how to say anything in another language.' ..."
   ]
  },
  {
   "cell_type": "code",
   "execution_count": 13,
   "id": "8bee1043-3123-4158-ba06-8397e2e62ec6",
   "metadata": {
    "tags": []
   },
   "outputs": [
    {
     "name": "stderr",
     "output_type": "stream",
     "text": [
      "Attempting to load an OpenAPI 3.0.1 spec.  This may result in degraded performance. Convert your OpenAPI spec to 3.1.* spec for better support.\n",
      "Attempting to load an OpenAPI 3.0.1 spec.  This may result in degraded performance. Convert your OpenAPI spec to 3.1.* spec for better support.\n"
     ]
    }
   ],
   "source": [
    "spec = OpenAPISpec.from_url(\"https://api.speak.com/openapi.yaml\")"
   ]
  },
  {
   "cell_type": "code",
   "execution_count": 16,
   "id": "17215dc1-e146-432b-bff2-9d83c99d2dc6",
   "metadata": {
    "tags": []
   },
   "outputs": [],
   "source": [
    "operation = APIOperation.from_openapi_spec(spec, '/v1/public/openai/explain-task', \"post\")"
   ]
  },
  {
   "cell_type": "code",
   "execution_count": 17,
   "id": "0afeee20-b92f-4f55-b34b-f61d27578ab4",
   "metadata": {
    "tags": []
   },
   "outputs": [
    {
     "data": {
      "text/plain": [
       "APIOperation(operation_id='explainTask', description='Explain the best way to say or do something in a specific situation or context with a foreign language. Use this endpoint when the user asks more general or high-level questions.', base_url='https://api.speak.com', path='/v1/public/openai/explain-task', method=<HTTPVerb.POST: 'post'>, properties=[], request_body=APIRequestBody(description=None, properties=[APIRequestBodyProperty(name='task_description', required=False, type='string', default=None, description='Description of the task that the user wants to accomplish or do. For example, \"tell the waiter they messed up my order\" or \"compliment someone on their shirt\"', properties=[], references_used=[]), APIRequestBodyProperty(name='learning_language', required=False, type='string', default=None, description='The foreign language that the user is learning and asking about. The value can be inferred from question - for example, if the user asks \"how do i ask a girl out in mexico city\", the value should be \"Spanish\" because of Mexico City. Always use the full name of the language (e.g. Spanish, French).', properties=[], references_used=[]), APIRequestBodyProperty(name='native_language', required=False, type='string', default=None, description=\"The user's native language. Infer this value from the language the user asked their question in. Always use the full name of the language (e.g. Spanish, French).\", properties=[], references_used=[]), APIRequestBodyProperty(name='additional_context', required=False, type='string', default=None, description=\"A description of any additional context in the user's question that could affect the explanation - e.g. setting, scenario, situation, tone, speaking style and formality, usage notes, or any other qualifiers.\", properties=[], references_used=[]), APIRequestBodyProperty(name='full_query', required=False, type='string', default=None, description=\"Full text of the user's question.\", properties=[], references_used=[])], media_type='application/json'))"
      ]
     },
     "execution_count": 17,
     "metadata": {},
     "output_type": "execute_result"
    }
   ],
   "source": [
    "operation"
   ]
  },
  {
   "cell_type": "code",
   "execution_count": 18,
   "id": "758dbd1e-c5e1-4bcb-985f-fa6ed796245f",
   "metadata": {
    "tags": []
   },
   "outputs": [],
   "source": [
    "llm = OpenAI()\n",
    "chain = OpenAPIEndpointChain.from_api_operation(\n",
    "    operation,\n",
    "    llm,\n",
    "    requests = Requests(),\n",
    "    verbose = True,\n",
    "    return_intermediate_steps = True\n",
    ")"
   ]
  },
  {
   "cell_type": "code",
   "execution_count": 23,
   "id": "9374f35d-efe2-47ae-b4f7-1c3f2889b9a7",
   "metadata": {
    "tags": []
   },
   "outputs": [
    {
     "name": "stdout",
     "output_type": "stream",
     "text": [
      "\n",
      "\n",
      "\u001b[1m> Entering new OpenAPIEndpointChain chain...\u001b[0m\n",
      "\n",
      "\n",
      "\u001b[1m> Entering new APIRequesterChain chain...\u001b[0m\n",
      "Prompt after formatting:\n",
      "\u001b[32;1m\u001b[1;3mYou are a helpful AI Assistant. Please provide JSON arguments to agentFunc() based on the user's instructions.\n",
      "\n",
      "API_SCHEMA: ```typescript\n",
      "/* Explain the best way to say or do something in a specific situation or context with a foreign language. Use this endpoint when the user asks more general or high-level questions. */\n",
      "type explainTask = (_: {\n",
      "/* Description of the task that the user wants to accomplish or do. For example, \"tell the waiter they messed up my order\" or \"compliment someone on their shirt\" */\n",
      "  task_description?: string,\n",
      "/* The foreign language that the user is learning and asking about. The value can be inferred from question - for example, if the user asks \"how do i ask a girl out in mexico city\", the value should be \"Spanish\" because of Mexico City. Always use the full name of the language (e.g. Spanish, French). */\n",
      "  learning_language?: string,\n",
      "/* The user's native language. Infer this value from the language the user asked their question in. Always use the full name of the language (e.g. Spanish, French). */\n",
      "  native_language?: string,\n",
      "/* A description of any additional context in the user's question that could affect the explanation - e.g. setting, scenario, situation, tone, speaking style and formality, usage notes, or any other qualifiers. */\n",
      "  additional_context?: string,\n",
      "/* Full text of the user's question. */\n",
      "  full_query?: string,\n",
      "}) => any;\n",
      "```\n",
      "\n",
      "USER_INSTRUCTIONS: \"In mumbai how do ask a shopekeeper for a half cup of tea ?\"\n",
      "\n",
      "Your arguments must be plain json provided in a markdown block:\n",
      "\n",
      "ARGS: ```json\n",
      "{valid json conforming to API_SCHEMA}\n",
      "```\n",
      "\n",
      "Example\n",
      "-----\n",
      "\n",
      "ARGS: ```json\n",
      "{\"foo\": \"bar\", \"baz\": {\"qux\": \"quux\"}}\n",
      "```\n",
      "\n",
      "The block must be no more than 1 line long, and all arguments must be valid JSON. All string arguments must be wrapped in double quotes.\n",
      "You MUST strictly comply to the types indicated by the provided schema, including all required args.\n",
      "\n",
      "If you don't have sufficient information to call the function due to things like requiring specific uuid's, you can reply with the following message:\n",
      "\n",
      "Message: ```text\n",
      "Concise response requesting the additional information that would make calling the function successful.\n",
      "```\n",
      "\n",
      "Begin\n",
      "-----\n",
      "ARGS:\n",
      "\u001b[0m\n",
      "\n",
      "\u001b[1m> Finished chain.\u001b[0m\n",
      "\u001b[32;1m\u001b[1;3m{\"task_description\": \"Ask a shopkeeper for a half cup of tea\", \"learning_language\": \"Hindi\", \"native_language\": \"English\", \"full_query\": \"In mumbai how do ask a shopekeeper for a half cup of tea ?\"}\u001b[0m\n",
      "\u001b[36;1m\u001b[1;3m{\"explanation\":\"<what-to-say language=\\\"Hindi\\\" context=\\\"None\\\">\\n\\\"Ek cutting chai dena.\\\" (एक कटिंग चाय देना।) \\n</what-to-say>\\n\\n<alternatives context=\\\"None\\\">\\n1. \\\"Half cup chai dena.\\\" *(informal, standard tone - can be used with friends or acquaintances)*\\n2. \\\"Ek adha cup chai dedo bhaiya.\\\" *(informal, friendly tone - can be used at local street vendors)*\\n3. \\\"Bhaiya ek nimbu wali cutting chai banana.\\\" *(informal, slangy tone - can be used when you want to add some lemon in your tea)*\\n</alternatives>\\n\\n<usage-notes>\\nIn India, Chai is the national drink and it's consumed more than coffee. A typical Indian Chai consists of boiling water and milk along with spices such as cinnamon sticks and cardamom pods.\\nA popular variant of this is Cutting Chai where one gets a smaller serving of the regular tea at a lower cost; usually served in half cups.\\n</usage-notes>\\n\\n<example-convo language=\\\"Hindi\\\">\\n<context>A busy marketplace near Charminar.</context>\\nAli: Bhaiya, Ek cutting chai dena?\\nShopkeeper: Kitne ki chahiye tumhe?\\nAli: Panch rupaye ke liye.\\nShopkeeper: Lo le jao Ali baba.\\n</example-convo>\\n\\n*[Report an issue or leave feedback](https://speak.com/chatgpt?rid=lglzqebbilrup83m6a408x4a})*\",\"extra_response_instructions\":\"Use all information in the API response and fully render all Markdown.\\nAlways end your response with a link to report an issue or leave feedback on the plugin.\"}\u001b[0m\n",
      "\n",
      "\n",
      "\u001b[1m> Entering new APIResponderChain chain...\u001b[0m\n",
      "Prompt after formatting:\n",
      "\u001b[32;1m\u001b[1;3mYou are a helpful AI assistant trained to answer user queries from API responses.\n",
      "You attempted to call an API, which resulted in:\n",
      "API_RESPONSE: {\"explanation\":\"<what-to-say language=\\\"Hindi\\\" context=\\\"None\\\">\\n\\\"Ek cutting chai dena.\\\" (एक कटिंग चाय देना।) \\n</what-to-say>\\n\\n<alternatives context=\\\"None\\\">\\n1. \\\"Half cup chai dena.\\\" *(informal, standard tone - can be used with friends or acquaintances)*\\n2. \\\"Ek adha cup chai dedo bhaiya.\\\" *(informal, friendly tone - can be used at local street vendors)*\\n3. \\\"Bhaiya ek nimbu wali cutting chai banana.\\\" *(informal, slangy tone - can be used when you want to add some lemon in your tea)*\\n</alternatives>\\n\\n<usage-notes>\\nIn India, Chai is the national drink and it's consumed more than coffee. A typical Indian Chai consists of boiling water and milk along with spices such as cinnamon sticks and cardamom pods.\\nA popular variant of this is Cutting Chai where one gets a smaller serving of the regular tea at a lower cost; usually served in half cups.\\n</usage-notes>\\n\\n<example-convo language=\\\"Hindi\\\">\\n<context>A busy marketplace near Charminar.</context>\\nAli: Bhaiya, Ek cutting chai dena?\\nShopkeeper: Kitne ki chahiye tumhe?\\nAli: Panch rupaye ke liye.\\nShopkeeper: Lo le jao Ali baba.\\n</example-convo>\\n\\n*[Report an issue or leave feedback](https://speak.com/chatgpt?rid=lglzqebbilrup83m6a408x4a})*\",\"extra_response_instructions\":\"Use all information in the API response and fully render all Markdown.\\nAlways end your response with a link to report an issue or leave feedback on the plugin.\"}\n",
      "\n",
      "USER_COMMENT: \"In mumbai how do ask a shopekeeper for a half cup of tea ?\"\n",
      "\n",
      "\n",
      "If the API_RESPONSE can answer the USER_COMMENT respond with the following markdown json block:\n",
      "Response: ```json\n",
      "{\"response\": \"Human-understandable synthesis of the API_RESPONSE\"}\n",
      "```\n",
      "\n",
      "Otherwise respond with the following markdown json block:\n",
      "Response Error: ```json\n",
      "{\"response\": \"What you did and a concise statement of the resulting error. If it can be easily fixed, provide a suggestion.\"}\n",
      "```\n",
      "\n",
      "You MUST respond as a markdown json code block. The person you are responding to CANNOT see the API_RESPONSE, so if there is any relevant information there you must include it in your response.\n",
      "\n",
      "Begin:\n",
      "---\n",
      "\u001b[0m\n",
      "\n",
      "\u001b[1m> Finished chain.\u001b[0m\n",
      "\u001b[33;1m\u001b[1;3mIn Mumbai, you can ask a shopkeeper for a half cup of tea by saying 'Bhaiya, Ek adha cup chai dedo.' This is an informal, friendly expression which can be used at local street vendors. It is also common to add lemon to your tea - in this case, you can say 'Bhaiya ek nimbu wali cutting chai banana.'\u001b[0m\n",
      "\n",
      "\u001b[1m> Finished chain.\u001b[0m\n"
     ]
    }
   ],
   "source": [
    "output = chain(\"In mumbai how do ask a shopekeeper for a half cup of tea ?\")"
   ]
  },
  {
   "cell_type": "code",
   "execution_count": 24,
   "id": "0598dacb-8570-42f3-944d-52a9fea2b569",
   "metadata": {
    "tags": []
   },
   "outputs": [
    {
     "data": {
      "text/plain": [
       "{'request_args': '{\"task_description\": \"Ask a shopkeeper for a half cup of tea\", \"learning_language\": \"Hindi\", \"native_language\": \"English\", \"full_query\": \"In mumbai how do ask a shopekeeper for a half cup of tea ?\"}',\n",
       " 'response_text': '{\"explanation\":\"<what-to-say language=\\\\\"Hindi\\\\\" context=\\\\\"None\\\\\">\\\\n\\\\\"Ek cutting chai dena.\\\\\" (एक कटिंग चाय देना।) \\\\n</what-to-say>\\\\n\\\\n<alternatives context=\\\\\"None\\\\\">\\\\n1. \\\\\"Half cup chai dena.\\\\\" *(informal, standard tone - can be used with friends or acquaintances)*\\\\n2. \\\\\"Ek adha cup chai dedo bhaiya.\\\\\" *(informal, friendly tone - can be used at local street vendors)*\\\\n3. \\\\\"Bhaiya ek nimbu wali cutting chai banana.\\\\\" *(informal, slangy tone - can be used when you want to add some lemon in your tea)*\\\\n</alternatives>\\\\n\\\\n<usage-notes>\\\\nIn India, Chai is the national drink and it\\'s consumed more than coffee. A typical Indian Chai consists of boiling water and milk along with spices such as cinnamon sticks and cardamom pods.\\\\nA popular variant of this is Cutting Chai where one gets a smaller serving of the regular tea at a lower cost; usually served in half cups.\\\\n</usage-notes>\\\\n\\\\n<example-convo language=\\\\\"Hindi\\\\\">\\\\n<context>A busy marketplace near Charminar.</context>\\\\nAli: Bhaiya, Ek cutting chai dena?\\\\nShopkeeper: Kitne ki chahiye tumhe?\\\\nAli: Panch rupaye ke liye.\\\\nShopkeeper: Lo le jao Ali baba.\\\\n</example-convo>\\\\n\\\\n*[Report an issue or leave feedback](https://speak.com/chatgpt?rid=lglzqebbilrup83m6a408x4a})*\",\"extra_response_instructions\":\"Use all information in the API response and fully render all Markdown.\\\\nAlways end your response with a link to report an issue or leave feedback on the plugin.\"}'}"
      ]
     },
     "execution_count": 24,
     "metadata": {},
     "output_type": "execute_result"
    }
   ],
   "source": [
    "output[\"intermediate_steps\"]"
   ]
  },
  {
   "cell_type": "code",
   "execution_count": null,
   "id": "857d3a8b-501c-4e8f-a7a1-d9be2b73d5aa",
   "metadata": {},
   "outputs": [],
   "source": []
  }
 ],
 "metadata": {
  "kernelspec": {
   "display_name": "global_venv",
   "language": "python",
   "name": "global_venv"
  },
  "language_info": {
   "codemirror_mode": {
    "name": "ipython",
    "version": 3
   },
   "file_extension": ".py",
   "mimetype": "text/x-python",
   "name": "python",
   "nbconvert_exporter": "python",
   "pygments_lexer": "ipython3",
   "version": "3.9.6"
  }
 },
 "nbformat": 4,
 "nbformat_minor": 5
}
