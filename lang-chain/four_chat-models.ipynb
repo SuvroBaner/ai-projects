{
 "cells": [
  {
   "cell_type": "markdown",
   "id": "ed48fd5d-9a0f-4586-b750-4ce50814e3fc",
   "metadata": {},
   "source": [
    "# Chat Models\n",
    "\n",
    "Chat models are language models under the hood. The interface is chat messages for both inputs and outputs"
   ]
  },
  {
   "cell_type": "markdown",
   "id": "b07b7336-a754-4614-afef-32434c80a1e0",
   "metadata": {},
   "source": [
    "## Getting Started"
   ]
  },
  {
   "cell_type": "code",
   "execution_count": 1,
   "id": "5f5280db-7b79-492b-9057-2a0fe9deb7f8",
   "metadata": {
    "tags": []
   },
   "outputs": [],
   "source": [
    "from langchain.chat_models import ChatOpenAI\n",
    "from langchain import PromptTemplate, LLMChain\n",
    "\n",
    "from langchain.prompts.chat import (\n",
    "    ChatPromptTemplate,\n",
    "    SystemMessagePromptTemplate,\n",
    "    AIMessagePromptTemplate,\n",
    "    HumanMessagePromptTemplate\n",
    ")\n",
    "\n",
    "from langchain.schema import (\n",
    "    AIMessage,\n",
    "    HumanMessage,\n",
    "    SystemMessage\n",
    ")"
   ]
  },
  {
   "cell_type": "code",
   "execution_count": 2,
   "id": "b4b24122-1189-4476-aa8f-a9677e52ab65",
   "metadata": {
    "tags": []
   },
   "outputs": [],
   "source": [
    "chat = ChatOpenAI(temperature = 0)"
   ]
  },
  {
   "cell_type": "code",
   "execution_count": 3,
   "id": "072f84b6-8cfe-4416-b1f6-3b5a3731673a",
   "metadata": {
    "tags": []
   },
   "outputs": [
    {
     "data": {
      "text/plain": [
       "AIMessage(content='मुझे प्रोग्रामिंग करना पसंद है।', additional_kwargs={})"
      ]
     },
     "execution_count": 3,
     "metadata": {},
     "output_type": "execute_result"
    }
   ],
   "source": [
    "chat([HumanMessage(content = \"Translate this sentence from English to Hindi. I love programming.\")])"
   ]
  },
  {
   "cell_type": "code",
   "execution_count": 4,
   "id": "89f04200-d94e-4d05-91a0-adece295b3e7",
   "metadata": {
    "tags": []
   },
   "outputs": [
    {
     "data": {
      "text/plain": [
       "AIMessage(content='मुझे प्रोग्रामिंग करना पसंद है।', additional_kwargs={})"
      ]
     },
     "execution_count": 4,
     "metadata": {},
     "output_type": "execute_result"
    }
   ],
   "source": [
    "messages = [\n",
    "    SystemMessage(content = \"You are a helpful assistant that translates English to Hindi.\"),\n",
    "    HumanMessage(content = \"Translate this sentence from English to Hindi. I love programming.\")\n",
    "]\n",
    "\n",
    "chat(messages)"
   ]
  },
  {
   "cell_type": "code",
   "execution_count": 5,
   "id": "08915897-c041-4976-bec7-c2ef4121ce12",
   "metadata": {
    "tags": []
   },
   "outputs": [
    {
     "data": {
      "text/plain": [
       "LLMResult(generations=[[ChatGeneration(text='मुझे प्रोग्रामिंग करना पसंद है।', generation_info=None, message=AIMessage(content='मुझे प्रोग्रामिंग करना पसंद है।', additional_kwargs={}))], [ChatGeneration(text='Subject: Happy Birthday Sachin Tendulkar!\\n\\nDear Sachin Tendulkar,\\n\\nI hope this email finds you in good health and high spirits. On behalf of all your fans around the world, I would like to wish you a very happy birthday!\\n\\nAs one of the greatest cricketers of all time, you have inspired millions of people with your talent, dedication, and sportsmanship. Your records and achievements are a testament to your hard work and passion for the game.\\n\\nOn this special day, I hope you take some time to reflect on your incredible journey and the impact you have had on the world of cricket. Your legacy will continue to inspire generations to come.\\n\\nOnce again, happy birthday Sachin! May this year bring you joy, happiness, and continued success in all your endeavors.\\n\\nBest regards,\\n\\n[Your Name]', generation_info=None, message=AIMessage(content='Subject: Happy Birthday Sachin Tendulkar!\\n\\nDear Sachin Tendulkar,\\n\\nI hope this email finds you in good health and high spirits. On behalf of all your fans around the world, I would like to wish you a very happy birthday!\\n\\nAs one of the greatest cricketers of all time, you have inspired millions of people with your talent, dedication, and sportsmanship. Your records and achievements are a testament to your hard work and passion for the game.\\n\\nOn this special day, I hope you take some time to reflect on your incredible journey and the impact you have had on the world of cricket. Your legacy will continue to inspire generations to come.\\n\\nOnce again, happy birthday Sachin! May this year bring you joy, happiness, and continued success in all your endeavors.\\n\\nBest regards,\\n\\n[Your Name]', additional_kwargs={}))]], llm_output={'token_usage': {'prompt_tokens': 78, 'completion_tokens': 200, 'total_tokens': 278}, 'model_name': 'gpt-3.5-turbo'})"
      ]
     },
     "execution_count": 5,
     "metadata": {},
     "output_type": "execute_result"
    }
   ],
   "source": [
    "batch_messages = [\n",
    "    [\n",
    "        SystemMessage(content = \"You are a helpful assistant that translates English to Hindi.\"),\n",
    "        HumanMessage(content = \"Translate this sentence from English to Hindi. I love programming.\")\n",
    "    ],\n",
    "    [\n",
    "        SystemMessage(content = \"You are a helful assiatant who creates a good email.\"),\n",
    "        HumanMessage(content = \"Write an email to Sachin Tendulkar wishing him a happy birthday\")\n",
    "    ],\n",
    "]\n",
    "\n",
    "result = chat.generate(batch_messages)\n",
    "result"
   ]
  },
  {
   "cell_type": "code",
   "execution_count": 6,
   "id": "208c9453-5fd9-4b4f-8e6b-5f65946b9c58",
   "metadata": {
    "tags": []
   },
   "outputs": [
    {
     "data": {
      "text/plain": [
       "{'token_usage': {'prompt_tokens': 78,\n",
       "  'completion_tokens': 200,\n",
       "  'total_tokens': 278},\n",
       " 'model_name': 'gpt-3.5-turbo'}"
      ]
     },
     "execution_count": 6,
     "metadata": {},
     "output_type": "execute_result"
    }
   ],
   "source": [
    "result.llm_output"
   ]
  },
  {
   "cell_type": "markdown",
   "id": "1f6791c2-f1a5-4e2b-99e8-38fb2ddedb18",
   "metadata": {},
   "source": [
    "### Prompt Templates"
   ]
  },
  {
   "cell_type": "code",
   "execution_count": 7,
   "id": "c5754060-8531-48ee-a562-71308954251d",
   "metadata": {
    "tags": []
   },
   "outputs": [],
   "source": [
    "template = \"You are a helpful assistant that translates {input_language} to {output_language}.\"\n",
    "system_message_prompt = SystemMessagePromptTemplate.from_template(template)\n",
    "\n",
    "human_template = \"{text}\"\n",
    "human_message_prompt = HumanMessagePromptTemplate.from_template(human_template)"
   ]
  },
  {
   "cell_type": "code",
   "execution_count": 14,
   "id": "33aa4a90-d523-4222-b7a7-21cc5ccc3713",
   "metadata": {
    "tags": []
   },
   "outputs": [],
   "source": [
    "chat_prompt = ChatPromptTemplate.from_messages([system_message_prompt, human_message_prompt])"
   ]
  },
  {
   "cell_type": "code",
   "execution_count": 13,
   "id": "56b6863c-1972-4901-8f83-4b38052aa4ba",
   "metadata": {
    "tags": []
   },
   "outputs": [
    {
     "data": {
      "text/plain": [
       "AIMessage(content='मुझे प्रोग्रामिंग करना पसंद है।', additional_kwargs={})"
      ]
     },
     "execution_count": 13,
     "metadata": {},
     "output_type": "execute_result"
    }
   ],
   "source": [
    "chat(chat_prompt.format_prompt(input_language = \"English\", output_language = \"Hindi\", text = \"I love programming.\").to_messages())"
   ]
  },
  {
   "cell_type": "markdown",
   "id": "c44658a5-d3f3-4831-b0fd-4c8fec072241",
   "metadata": {},
   "source": [
    "### More information here -\n",
    "\n",
    "https://python.langchain.com/en/latest/modules/models/chat.html"
   ]
  },
  {
   "cell_type": "code",
   "execution_count": null,
   "id": "607ac64d-13cb-4c05-aafa-35d3d004b527",
   "metadata": {},
   "outputs": [],
   "source": []
  }
 ],
 "metadata": {
  "kernelspec": {
   "display_name": "global_venv",
   "language": "python",
   "name": "global_venv"
  },
  "language_info": {
   "codemirror_mode": {
    "name": "ipython",
    "version": 3
   },
   "file_extension": ".py",
   "mimetype": "text/x-python",
   "name": "python",
   "nbconvert_exporter": "python",
   "pygments_lexer": "ipython3",
   "version": "3.9.6"
  }
 },
 "nbformat": 4,
 "nbformat_minor": 5
}
