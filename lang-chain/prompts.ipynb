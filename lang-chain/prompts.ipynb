{
 "cells": [
  {
   "cell_type": "markdown",
   "id": "e8166e2e-c628-48fd-92f6-75c977efe410",
   "metadata": {},
   "source": [
    "### Prompts\n",
    "\n",
    "In this notebook we will go over the following topics-\n",
    "\n",
    "1. Prompt Templated\n",
    "2. Connecting to Feature Store"
   ]
  },
  {
   "cell_type": "code",
   "execution_count": 1,
   "id": "7efa129b-6954-4021-91d0-8ac0b8c845a5",
   "metadata": {
    "tags": []
   },
   "outputs": [],
   "source": [
    "from langchain import PromptTemplate"
   ]
  },
  {
   "cell_type": "code",
   "execution_count": 2,
   "id": "62d04f2b-9485-48dd-8926-f2f66df0916b",
   "metadata": {
    "tags": []
   },
   "outputs": [
    {
     "data": {
      "text/plain": [
       "'\\nI want you to act as a naming consultant for new companies. What is a good name for a company that makes colorful gloves?\\n'"
      ]
     },
     "execution_count": 2,
     "metadata": {},
     "output_type": "execute_result"
    }
   ],
   "source": [
    "template = \"\"\"\n",
    "I want you to act as a naming consultant for new companies. What is a good name for a company that makes {product}?\n",
    "\"\"\"\n",
    "\n",
    "prompt = PromptTemplate(\n",
    "    input_variables = [\"product\"],\n",
    "    template = template,\n",
    ")\n",
    "\n",
    "prompt.format(product = \"colorful gloves\")"
   ]
  },
  {
   "cell_type": "code",
   "execution_count": 3,
   "id": "1f32e200-3bdd-4ad7-8da8-f36cb5a74e9d",
   "metadata": {
    "tags": []
   },
   "outputs": [
    {
     "data": {
      "text/plain": [
       "PromptTemplate(input_variables=['adjective', 'content'], output_parser=None, partial_variables={}, template='Tell me a {adjective} joke about {content}.', template_format='f-string', validate_template=True)"
      ]
     },
     "execution_count": 3,
     "metadata": {},
     "output_type": "execute_result"
    }
   ],
   "source": [
    "template = \"Tell me a {adjective} joke about {content}.\"\n",
    "\n",
    "prompt_template = PromptTemplate.from_template(template)\n",
    "prompt_template"
   ]
  },
  {
   "cell_type": "code",
   "execution_count": 4,
   "id": "4d7dd7a9-a393-448c-b64f-9c3e94a30034",
   "metadata": {
    "tags": []
   },
   "outputs": [
    {
     "data": {
      "text/plain": [
       "'Tell me a funny joke about chickens.'"
      ]
     },
     "execution_count": 4,
     "metadata": {},
     "output_type": "execute_result"
    }
   ],
   "source": [
    "prompt_template.format(adjective = \"funny\", content = \"chickens\")"
   ]
  },
  {
   "cell_type": "code",
   "execution_count": 5,
   "id": "cb00ff6d-9bfb-42bb-8caf-c4da2546a4f0",
   "metadata": {
    "tags": []
   },
   "outputs": [],
   "source": [
    "# Serialize the prompt template -\n",
    "prompt_template.save(\"test_prompt.json\")"
   ]
  },
  {
   "cell_type": "code",
   "execution_count": 6,
   "id": "7f3fa401-fd61-42ab-bc21-edb390b3ddca",
   "metadata": {
    "tags": []
   },
   "outputs": [],
   "source": [
    "from langchain.prompts import load_prompt\n",
    "loaded_prompt = load_prompt('test_prompt.json')"
   ]
  },
  {
   "cell_type": "code",
   "execution_count": 7,
   "id": "0a57bb5d-d67d-4b3c-9f21-4f996f8ebd35",
   "metadata": {
    "tags": []
   },
   "outputs": [],
   "source": [
    "assert prompt_template == loaded_prompt"
   ]
  },
  {
   "cell_type": "markdown",
   "id": "8846b199-bec1-4c1e-960a-969e7bc19cf4",
   "metadata": {},
   "source": [
    "Useful prompts from langchain : https://github.com/hwchase17/langchain-hub/tree/master/prompts"
   ]
  },
  {
   "cell_type": "markdown",
   "id": "ffda4a25-6616-42fb-8a6f-b62b801dbd9b",
   "metadata": {},
   "source": [
    "### Pass few shot examples to a prompt template"
   ]
  },
  {
   "cell_type": "code",
   "execution_count": 8,
   "id": "4e312a82-d3f0-41f8-b14c-9b88eb19fe5b",
   "metadata": {
    "tags": []
   },
   "outputs": [],
   "source": [
    "from langchain import PromptTemplate, FewShotPromptTemplate"
   ]
  },
  {
   "cell_type": "code",
   "execution_count": 9,
   "id": "9afceaad-3f85-49df-8c9a-130d33c2cc51",
   "metadata": {
    "tags": []
   },
   "outputs": [],
   "source": [
    "# create the list of few shot examples -\n",
    "examples = [\n",
    "    {\"word\": \"happy\", \"antonym\": \"sad\"},\n",
    "    {\"word\": \"tall\", \"antonym\": \"short\"},\n",
    "]"
   ]
  },
  {
   "cell_type": "code",
   "execution_count": 11,
   "id": "af688c99-b081-4c37-9db5-e5b0af910bd8",
   "metadata": {
    "tags": []
   },
   "outputs": [],
   "source": [
    "example_formatter_template = \"\"\"\n",
    "Word: {word}\n",
    "Antonym: {antonym}\\n\n",
    "\"\"\"\n",
    "\n",
    "example_prompt = PromptTemplate(\n",
    "    input_variables = [\"word\", \"antonym\"],\n",
    "    template = example_formatter_template,\n",
    ")\n",
    "\n",
    "few_shot_prompt = FewShotPromptTemplate(\n",
    "    examples = examples,\n",
    "    example_prompt = example_prompt,\n",
    "    prefix = \"Give the antonym of every input\",\n",
    "    suffix = \"Word: {input}\\nAntonym:\",\n",
    "    input_variables = [\"input\"],\n",
    "    example_separator = \"\\n\\n\",\n",
    ")"
   ]
  },
  {
   "cell_type": "code",
   "execution_count": 12,
   "id": "552f7a1b-342f-44a9-9c6f-961b2ce21bda",
   "metadata": {
    "tags": []
   },
   "outputs": [
    {
     "name": "stdout",
     "output_type": "stream",
     "text": [
      "Give the antonym of every input\n",
      "\n",
      "\n",
      "Word: happy\n",
      "Antonym: sad\n",
      "\n",
      "\n",
      "\n",
      "\n",
      "Word: tall\n",
      "Antonym: short\n",
      "\n",
      "\n",
      "\n",
      "Word: little\n",
      "Antonym:\n"
     ]
    }
   ],
   "source": [
    "print(few_shot_prompt.format(input = \"little\"))"
   ]
  },
  {
   "cell_type": "markdown",
   "id": "078bb2ee-1445-4218-8005-f1cd8f906cb4",
   "metadata": {},
   "source": [
    "### large number of examples -"
   ]
  },
  {
   "cell_type": "code",
   "execution_count": 13,
   "id": "f4613411-d2a8-4237-97bf-b263ebd115b0",
   "metadata": {
    "tags": []
   },
   "outputs": [],
   "source": [
    "from langchain.prompts.example_selector import LengthBasedExampleSelector"
   ]
  },
  {
   "cell_type": "code",
   "execution_count": 16,
   "id": "720a611f-108e-4798-b26c-473d135d9da9",
   "metadata": {
    "tags": []
   },
   "outputs": [],
   "source": [
    "example = [\n",
    "    {\"word\": \"happy\", \"antonym\": \"sad\"},\n",
    "    {\"word\": \"tall\", \"antonym\": \"short\"},\n",
    "    {\"word\": \"energetic\", \"antonym\": \"lethargic\"},\n",
    "    {\"word\": \"sunny\", \"antonym\": \"gloomy\"},\n",
    "    {\"word\": \"windy\", \"antonym\": \"calm\"},\n",
    "]\n"
   ]
  },
  {
   "cell_type": "code",
   "execution_count": 17,
   "id": "e0d9bc4d-0491-4476-b2b9-cc5c695cf767",
   "metadata": {
    "tags": []
   },
   "outputs": [],
   "source": [
    "example_selector = LengthBasedExampleSelector(\n",
    "    examples = examples,\n",
    "    example_prompt = example_prompt,\n",
    "    max_length = 25,\n",
    ")"
   ]
  },
  {
   "cell_type": "code",
   "execution_count": 18,
   "id": "8225ed88-313b-4578-ad41-56bf64c25753",
   "metadata": {
    "tags": []
   },
   "outputs": [],
   "source": [
    "dynamic_prompt = FewShotPromptTemplate(\n",
    "    example_selector = example_selector,\n",
    "    example_prompt = example_prompt,\n",
    "    prefix = \"Give the antonym for every input\",\n",
    "    suffix = \"Word: {input}\\nAntonym:\",\n",
    "    input_variables = [\"input\"],\n",
    "    example_separator = \"\\n\\n\"\n",
    ")"
   ]
  },
  {
   "cell_type": "code",
   "execution_count": 19,
   "id": "4bf3178f-ef24-4e25-87fd-08ffc2651a3b",
   "metadata": {
    "tags": []
   },
   "outputs": [
    {
     "name": "stdout",
     "output_type": "stream",
     "text": [
      "Give the antonym for every input\n",
      "\n",
      "\n",
      "Word: happy\n",
      "Antonym: sad\n",
      "\n",
      "\n",
      "\n",
      "\n",
      "Word: tall\n",
      "Antonym: short\n",
      "\n",
      "\n",
      "\n",
      "Word: big\n",
      "Antonym:\n"
     ]
    }
   ],
   "source": [
    "print(dynamic_prompt.format(input = \"big\"))"
   ]
  },
  {
   "cell_type": "markdown",
   "id": "5134b221-38e6-4c33-acdb-28ca43f35842",
   "metadata": {},
   "source": [
    "### Connecting to Feature Store"
   ]
  },
  {
   "cell_type": "code",
   "execution_count": null,
   "id": "24562f28-abda-4238-865f-11671ccd1cf9",
   "metadata": {},
   "outputs": [],
   "source": []
  }
 ],
 "metadata": {
  "kernelspec": {
   "display_name": "global_venv",
   "language": "python",
   "name": "global_venv"
  },
  "language_info": {
   "codemirror_mode": {
    "name": "ipython",
    "version": 3
   },
   "file_extension": ".py",
   "mimetype": "text/x-python",
   "name": "python",
   "nbconvert_exporter": "python",
   "pygments_lexer": "ipython3",
   "version": "3.9.6"
  }
 },
 "nbformat": 4,
 "nbformat_minor": 5
}
